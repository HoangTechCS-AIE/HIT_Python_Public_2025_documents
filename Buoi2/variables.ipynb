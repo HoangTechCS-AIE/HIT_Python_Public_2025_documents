{
 "cells": [
  {
   "cell_type": "markdown",
   "id": "d7de4e06",
   "metadata": {},
   "source": [
    "Biến trong Python\n",
    "Các kiểu dữ liệu trong Python\n",
    "Các toán tử trong Python\n",
    "Mệnh đề điều kiện và vòng lặp\n",
    "Kiểu dữ liệu True, False"
   ]
  },
  {
   "cell_type": "markdown",
   "id": "d63f6d7b",
   "metadata": {},
   "source": [
    "# Biến trong Python\n",
    "\n",
    "Trong Python, **biến** là tên dùng để lưu trữ giá trị dữ liệu. Biến có thể chứa nhiều kiểu dữ liệu khác nhau như số, chuỗi, danh sách, v.v.\n",
    "\n",
    "## Cách khai báo biến\n",
    "\n",
    "Bạn chỉ cần gán giá trị cho một tên biến mà không cần khai báo kiểu dữ liệu:\n",
    "\n",
    "```python\n",
    "x = 10\n",
    "name = \"HIT\"\n",
    "is_active = True\n",
    "```\n",
    "\n",
    "## Quy tắc đặt tên biến\n",
    "\n",
    "- Tên biến phân biệt chữ hoa và chữ thường (`age` khác `Age`)\n",
    "- Không bắt đầu bằng số\n",
    "- Không chứa ký tự đặc biệt (trừ `_`)\n",
    "- Không trùng với từ khóa của Python\n",
    "\n",
    "## Ví dụ\n",
    "\n",
    "```python\n",
    "age = 25\n",
    "user_name = \"Python Public\"\n",
    "pi = 3.14\n",
    "```"
   ]
  },
  {
   "cell_type": "code",
   "execution_count": null,
   "id": "f6dc81dd",
   "metadata": {},
   "outputs": [
    {
     "name": "stdout",
     "output_type": "stream",
     "text": [
      "10\n"
     ]
    }
   ],
   "source": [
    "x = 10 \n",
    "X =10\n",
    "print(x)"
   ]
  },
  {
   "cell_type": "code",
   "execution_count": 3,
   "id": "2631a5e6",
   "metadata": {},
   "outputs": [
    {
     "name": "stdout",
     "output_type": "stream",
     "text": [
      "5\n",
      "John\n"
     ]
    }
   ],
   "source": [
    "# tạo biến đơn\n",
    "x = 5\n",
    "y = \"John\"\n",
    "print(x)\n",
    "print(y)"
   ]
  },
  {
   "cell_type": "code",
   "execution_count": 5,
   "id": "eac68147",
   "metadata": {},
   "outputs": [],
   "source": [
    "# Nếu bạn muốn chỉ định kiểu dữ liệu của một biến, điều này có thể được thực hiện bằng cách truyền.\n",
    "x = str(3)    # x will be '3'\n",
    "y = int(3)    # y will be 3\n",
    "z = float(3)  # z will be 3.0\n",
    "h = str(x)\n"
   ]
  },
  {
   "cell_type": "code",
   "execution_count": 6,
   "id": "5888d245",
   "metadata": {},
   "outputs": [
    {
     "name": "stdout",
     "output_type": "stream",
     "text": [
      "<class 'int'>\n",
      "<class 'str'>\n",
      "<class 'float'>\n"
     ]
    }
   ],
   "source": [
    "#Lấy kiểu dữ liệu của một biến bằng hàm type()\n",
    "x = 5\n",
    "y = \"HIT Python Public 2025\"\n",
    "h = 3.14\n",
    "print(type(x))\n",
    "print(type(y))\n",
    "print(type(h))"
   ]
  },
  {
   "cell_type": "code",
   "execution_count": 8,
   "id": "18401973",
   "metadata": {},
   "outputs": [
    {
     "name": "stdout",
     "output_type": "stream",
     "text": [
      "5\n",
      "HIT Python Public 2025\n",
      "<class 'str'>\n"
     ]
    }
   ],
   "source": [
    "# Tên biến phân biệt chữ hoa và chữ thường\n",
    "# Ví dụ: x và X là hai biến khác nhau\n",
    "x = 5  \n",
    "X = \"HIT Python Public 2025\"\n",
    "print(x)    \n",
    "print(X)\n",
    "print(type(X))"
   ]
  },
  {
   "cell_type": "code",
   "execution_count": 9,
   "id": "ec4942ac",
   "metadata": {},
   "outputs": [
    {
     "name": "stdout",
     "output_type": "stream",
     "text": [
      "HIT\n",
      "Python\n",
      "Public 2025\n"
     ]
    }
   ],
   "source": [
    "#Python cho phép bạn gán giá trị cho nhiều biến trong một dòng:\n",
    "x , y, z = \"HIT\", \"Python\", \"Public 2025\"\n",
    "print(x)\n",
    "print(y)       \n",
    "print(z)"
   ]
  },
  {
   "cell_type": "code",
   "execution_count": 10,
   "id": "fa787b84",
   "metadata": {},
   "outputs": [
    {
     "name": "stdout",
     "output_type": "stream",
     "text": [
      "HIT\n",
      "HIT\n",
      "HIT\n"
     ]
    }
   ],
   "source": [
    "#Biến có thể gán cùng một giá trị cho nhiều biến trong một dòng:\n",
    "x = y = z = \"HIT\"\n",
    "print(x)\n",
    "print(y)\n",
    "print(z)"
   ]
  },
  {
   "cell_type": "code",
   "execution_count": 12,
   "id": "b369bd78",
   "metadata": {},
   "outputs": [
    {
     "name": "stdout",
     "output_type": "stream",
     "text": [
      "apple\n",
      "banana\n",
      "cherry\n"
     ]
    }
   ],
   "source": [
    "# giải nén một list, tuple hoặc set\n",
    "fruits = [\"apple\", \"banana\", \"cherry\"]  \n",
    "x, y, z = fruits\n",
    "print(x)\n",
    "print(y)        \n",
    "print(z)\n"
   ]
  },
  {
   "cell_type": "code",
   "execution_count": null,
   "id": "1fc1e312",
   "metadata": {},
   "outputs": [
    {
     "name": "stdout",
     "output_type": "stream",
     "text": [
      "Python Ubuntu WSL\n",
      "PythonUbuntuWSL\n"
     ]
    }
   ],
   "source": [
    "#Output Variables\n",
    "x = \"Python\"\n",
    "y = \"Ubuntu\"\n",
    "z = \"WSL\"\n",
    "print(x, y, z) # xuất ra nhiều các biến, được phân tách bằng dấu phẩy:print()\n",
    "print(x + y + z) # Python cũng có thể sử dụng toán tử để xuất ra Nhiều biến:+"
   ]
  },
  {
   "cell_type": "code",
   "execution_count": 13,
   "id": "4e741af1",
   "metadata": {},
   "outputs": [
    {
     "name": "stdout",
     "output_type": "stream",
     "text": [
      "15\n"
     ]
    }
   ],
   "source": [
    " # đối với số, ký tự hoạt động như một toán tử toán học:+\n",
    "x = 5\n",
    "y = 10\n",
    "print(x + y)"
   ]
  },
  {
   "cell_type": "code",
   "execution_count": 16,
   "id": "a5cea640",
   "metadata": {},
   "outputs": [
    {
     "name": "stdout",
     "output_type": "stream",
     "text": [
      "PythonUbuntu\n"
     ]
    }
   ],
   "source": [
    "# khi bạn cố gắng kết hợp một chuỗi và một số với toán tử, Python sẽ cho bạn một lỗi:print()+\n",
    "x = \"Python\"\n",
    "y = \"Ubuntu\"\n",
    "print(x + y)"
   ]
  },
  {
   "cell_type": "code",
   "execution_count": 23,
   "id": "eb7b26c9",
   "metadata": {},
   "outputs": [
    {
     "name": "stdout",
     "output_type": "stream",
     "text": [
      "5 John\n"
     ]
    }
   ],
   "source": [
    "# Cách tốt nhất để xuất ra nhiều biến trong hàm là phân tách chúng bằng dấu phẩy, thậm chí còn hỗ trợ các loại dữ liệu khác nhau:print()\n",
    "x = 5\n",
    "y = \"John\"\n",
    "print(x, y)"
   ]
  },
  {
   "cell_type": "markdown",
   "id": "a22db956",
   "metadata": {},
   "source": [
    "# Biến toàn cục và biến cục bộ\n",
    "\n",
    "## Biến toàn cục được khai báo bên ngoài tất cả các hàm và có thể được truy cập ở bất kỳ đâu trong file.\n",
    "global_var = \"Tôi là biến toàn cục\"\n",
    "\n",
    "def my_function():\n",
    "    # Biến cục bộ chỉ tồn tại trong phạm vi của hàm\n",
    "    local_var = \"Tôi là biến cục bộ\"\n",
    "    print(global_var)  # Có thể truy cập biến toàn cục\n",
    "    print(local_var)   # Có thể truy cập biến cục bộ\n",
    "\n",
    "my_function()\n",
    "\n",
    "## Ngoài hàm, chỉ truy cập được biến toàn cục\n",
    "print(global_var)\n",
    "## print(local_var)  # Dòng này sẽ gây lỗi vì local_var không tồn tại ngoài hàm"
   ]
  },
  {
   "cell_type": "code",
   "execution_count": 18,
   "id": "b8dd8663",
   "metadata": {},
   "outputs": [
    {
     "name": "stdout",
     "output_type": "stream",
     "text": [
      "Outside function: HIT Python Public 2025\n"
     ]
    }
   ],
   "source": [
    "global_var = \"HIT Python Public 2025\"  # Biến toàn cục\n",
    "\n",
    "def my_function():\n",
    "    local_var = \"Local Variable\"  # Biến cục bộ\n",
    "    print(\"Inside function:\", local_var)\n",
    "    print(\"Global variable:\", global_var)\n",
    "\n",
    "print(\"Outside function:\", global_var)"
   ]
  }
 ],
 "metadata": {
  "kernelspec": {
   "display_name": "rag_multimodal_hit",
   "language": "python",
   "name": "python3"
  },
  "language_info": {
   "codemirror_mode": {
    "name": "ipython",
    "version": 3
   },
   "file_extension": ".py",
   "mimetype": "text/x-python",
   "name": "python",
   "nbconvert_exporter": "python",
   "pygments_lexer": "ipython3",
   "version": "3.11.13"
  }
 },
 "nbformat": 4,
 "nbformat_minor": 5
}
